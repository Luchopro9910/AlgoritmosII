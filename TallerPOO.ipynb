{
  "nbformat": 4,
  "nbformat_minor": 0,
  "metadata": {
    "colab": {
      "provenance": [],
      "authorship_tag": "ABX9TyNidbYRJMaQJYWFjRxQvgMv",
      "include_colab_link": true
    },
    "kernelspec": {
      "name": "python3",
      "display_name": "Python 3"
    },
    "language_info": {
      "name": "python"
    }
  },
  "cells": [
    {
      "cell_type": "markdown",
      "metadata": {
        "id": "view-in-github",
        "colab_type": "text"
      },
      "source": [
        "<a href=\"https://colab.research.google.com/github/Luchopro9910/AlgoritmosII/blob/main/TallerPOO.ipynb\" target=\"_parent\"><img src=\"https://colab.research.google.com/assets/colab-badge.svg\" alt=\"Open In Colab\"/></a>"
      ]
    },
    {
      "cell_type": "markdown",
      "source": [
        "1. Crea una clase llamada Persona que tenga atributos para el nombre y la\n",
        "edad. Implementa métodos para que la persona pueda presentarse\n",
        "(mostrando su nombre y edad) y para que pueda cumplir años (aumentando\n",
        "su edad en 1)."
      ],
      "metadata": {
        "id": "qRs-zfAyIAjt"
      }
    },
    {
      "cell_type": "code",
      "execution_count": 4,
      "metadata": {
        "colab": {
          "base_uri": "https://localhost:8080/"
        },
        "id": "9b1fFJrsEbcO",
        "outputId": "c4b39054-4487-46cb-8978-e0c5d7e48b21"
      },
      "outputs": [
        {
          "output_type": "stream",
          "name": "stdout",
          "text": [
            "Hola, mi nombre es Luis y tengo 26 años.\n",
            "Hola, mi nombre es Luis y tengo 27 años.\n"
          ]
        }
      ],
      "source": [
        "class Persona:\n",
        "    def __init__(self, nombre, edad):\n",
        "        self.nombre = nombre\n",
        "        self.edad = edad\n",
        "\n",
        "    def presentarse(self):\n",
        "        print(f\"Hola, mi nombre es {self.nombre} y tengo {self.edad} años.\")\n",
        "\n",
        "    def cumplir_anios(self):\n",
        "        self.edad += 1\n",
        "\n",
        "persona1 = Persona(\"Luis\", 26)\n",
        "persona1.presentarse()\n",
        "persona1.cumplir_anios()\n",
        "persona1.presentarse()"
      ]
    },
    {
      "cell_type": "markdown",
      "source": [
        "2. Crea una clase llamada Coche que tenga atributos para la marca, el modelo y\n",
        "el estado (encendido o apagado). Implementa métodos para encender el\n",
        "coche, apagarlo y verificar su estado actual."
      ],
      "metadata": {
        "id": "cIZhP1WyIEEg"
      }
    },
    {
      "cell_type": "code",
      "source": [
        "class Coche:\n",
        "    def __init__(self, marca, modelo, estado):\n",
        "        self.marca = marca\n",
        "        self.modelo = modelo\n",
        "        self.estado = estado\n",
        "\n",
        "    def apagado_encendido(self):\n",
        "        if self.estado == \"apagado\":\n",
        "            self.estado = \"encendido\"\n",
        "            print(f\"El coche {self.marca} {self.modelo} ha arrancado.\")\n",
        "coche1 = Coche(\"Tesla\", \"Roadster\", \"apagado\")\n",
        "coche1.apagado_encendido()\n",
        "\n",
        ""
      ],
      "metadata": {
        "colab": {
          "base_uri": "https://localhost:8080/"
        },
        "id": "3RRLI0YNIGP0",
        "outputId": "2ec9ef06-7474-4aae-ce81-7ff7a679b1fa"
      },
      "execution_count": 9,
      "outputs": [
        {
          "output_type": "stream",
          "name": "stdout",
          "text": [
            "El coche Tesla Roadster ha arrancado.\n"
          ]
        }
      ]
    },
    {
      "cell_type": "markdown",
      "source": [
        "3. Crea una clase llamada Rectangulo que tenga atributos para el ancho y el\n",
        "alto. Implementa métodos para calcular el área, el perímetro y para verificar\n",
        "si el rectángulo es un cuadrado (es decir, si el ancho y el alto son iguales)."
      ],
      "metadata": {
        "id": "yueiQyAYM30p"
      }
    },
    {
      "cell_type": "code",
      "source": [
        "class Rectangulo:\n",
        "    def __init__(self, ancho, alto):\n",
        "        self.ancho = ancho\n",
        "        self.alto = alto\n",
        "\n",
        "    def calcular_area(self):\n",
        "        area = self.ancho * self.alto\n",
        "        print(f\"El área del rectángulo es {area}.\")\n",
        "\n",
        "rectangulo1 = Rectangulo(7, 9)\n",
        "rectangulo1.calcular_area()\n",
        "\n",
        "\n",
        ""
      ],
      "metadata": {
        "colab": {
          "base_uri": "https://localhost:8080/"
        },
        "id": "aQWEwxN7MCRG",
        "outputId": "3bd3d854-c1ea-4424-c3fd-fbef458ef8e5"
      },
      "execution_count": 18,
      "outputs": [
        {
          "output_type": "stream",
          "name": "stdout",
          "text": [
            "El área del rectángulo es 63.\n"
          ]
        }
      ]
    },
    {
      "cell_type": "code",
      "source": [
        "class Rectangulo:\n",
        "    def __init__(self, ancho, alto):\n",
        "        self.ancho = ancho\n",
        "        self.alto = alto\n",
        "\n",
        "    def calcular_perimetro(self):\n",
        "        perimetro = 2 * (self.ancho + self.alto)\n",
        "        print(f\"El perímetro del rectángulo es {perimetro}.\")\n",
        "\n",
        "rectangulo1 = Rectangulo(7, 9)\n",
        "rectangulo1.calcular_perimetro()\n"
      ],
      "metadata": {
        "colab": {
          "base_uri": "https://localhost:8080/"
        },
        "id": "RLEM5rVokFet",
        "outputId": "93533b1d-fdfc-4cb9-fcb7-89bf81f67e9b"
      },
      "execution_count": 20,
      "outputs": [
        {
          "output_type": "stream",
          "name": "stdout",
          "text": [
            "El perímetro del rectángulo es 32.\n"
          ]
        }
      ]
    },
    {
      "cell_type": "markdown",
      "source": [
        "4. Crea una clase llamada Libro que tenga atributos para el título, el autor y el\n",
        "número de páginas. Implementa métodos para mostrar la información\n",
        "completa del libro y para verificar si es un libro largo (más de 300 páginas)."
      ],
      "metadata": {
        "id": "mVIASpeXhblM"
      }
    },
    {
      "cell_type": "code",
      "source": [
        "class libro:\n",
        "    def __init__(self, titulo, autor, numero_paginas):\n",
        "        self.titulo = titulo\n",
        "        self.autor = autor\n",
        "        self.numero_paginas = numero_paginas\n",
        "\n",
        "    def info_completa(self):\n",
        "        return self.titulo, self.autor, self.numero_paginas\n",
        "        print(f\"El libro {self.titulo} de {self.autor} tiene {self.numero_paginas} páginas.\")\n",
        "\n",
        "\n",
        "libro1 = libro(\"Habitos atomicos\", \"venedele a la mente, no a la gente\", 87)\n",
        "libro1.info_completa()"
      ],
      "metadata": {
        "colab": {
          "base_uri": "https://localhost:8080/"
        },
        "id": "OokhohxyOXoP",
        "outputId": "533039be-6811-4bae-f393-c6d62b5a1ce7"
      },
      "execution_count": 22,
      "outputs": [
        {
          "output_type": "execute_result",
          "data": {
            "text/plain": [
              "('Habitos atomicos', 'venedele a la mente, no a la gente', 87)"
            ]
          },
          "metadata": {},
          "execution_count": 22
        }
      ]
    },
    {
      "cell_type": "markdown",
      "source": [
        "5. Crea una clase llamada CuentaBancaria que tenga atributos para el titular, el\n",
        "saldo y un límite de retiro. Implementa métodos para depositar dinero,\n",
        "retirar dinero (sin superar el saldo ni el límite de retiro), mostrar el saldo\n",
        "actual y cambiar el límite de retiro."
      ],
      "metadata": {
        "id": "9AViWeAvk5b2"
      }
    },
    {
      "cell_type": "code",
      "source": [
        "class CuentaBancaria:\n",
        "  def __init__(self, titular, saldo):\n",
        "    self.titular = titular\n",
        "    self.saldo = saldo\n",
        "\n",
        "  def depositar(self, cantidad):\n",
        "    self.saldo += cantidad\n",
        "    print(f\"Se deposito de manera correcta: {cantidad}, su nuevo saldo es {self.saldo} de la cuenta.\")\n",
        "\n",
        "  def retirar(self, retirar):\n",
        "    if retirar <= self.saldo:\n",
        "      self.saldo -= retirar\n",
        "      print(f\"Se retiraron {retirar} pesos de su cuenta, su nuevo saldo es {self.saldo} pesos\")\n",
        "    else:\n",
        "      print(\"Fondos insuficientes\")\n",
        "\n",
        "  def consulta(self):\n",
        "    print(f\"El saldo del señor {self.titular} es {self.saldo}.\")"
      ],
      "metadata": {
        "id": "rXKKl-Kwh6FZ"
      },
      "execution_count": 25,
      "outputs": []
    },
    {
      "cell_type": "code",
      "source": [
        "Cliente1 = CuentaBancaria(\"Luis Rodriguez\",0)\n",
        "Cliente1.retirar(1000)\n",
        "Cliente1.depositar(5000)\n",
        "Cliente1.retirar(1000)\n",
        "Cliente1.consulta()"
      ],
      "metadata": {
        "colab": {
          "base_uri": "https://localhost:8080/"
        },
        "id": "Jzu6eMKhlKQa",
        "outputId": "5932cbb4-08aa-43ea-e2f3-d6b002c5b4ac"
      },
      "execution_count": 27,
      "outputs": [
        {
          "output_type": "stream",
          "name": "stdout",
          "text": [
            "Fondos insuficientes\n",
            "Se deposito de manera correcta: 5000, su nuevo saldo es 5000 de la cuenta.\n",
            "Se retiraron 1000 pesos de su cuenta, su nuevo saldo es 4000 pesos\n",
            "El saldo del señor Juan Correa es 4000.\n"
          ]
        }
      ]
    },
    {
      "cell_type": "markdown",
      "source": [
        "6. Crea una clase llamada Estudiante que tenga atributos para el nombre, la\n",
        "edad y una lista de notas. Implementa métodos para agregar notas, calcular\n",
        "el promedio de las notas y mostrar la información completa del estudiante\n",
        "(nombre, edad y promedio)."
      ],
      "metadata": {
        "id": "KlS99aMLlyBz"
      }
    },
    {
      "cell_type": "code",
      "source": [
        "class Estudiante:\n",
        "  def __init__(self, nombre, edad, lista_notas):\n",
        "    self.nombre = nombre\n",
        "    self.edad= edad\n",
        "    self.lista_notas = lista_notas\n",
        "\n",
        "  def agregar_notas(self, nota):\n",
        "      self.lista_notas.append(nota)\n",
        "\n",
        "Estudiante1 = Estudiante (\"Luis\", 25, [])\n",
        "Estudiante1.agregar_notas(9)\n",
        "print(Estudiante1.lista_notas)"
      ],
      "metadata": {
        "colab": {
          "base_uri": "https://localhost:8080/"
        },
        "id": "3H-fg85jlVhP",
        "outputId": "ef97337b-cf6e-49d8-e6a5-50563252c918"
      },
      "execution_count": 35,
      "outputs": [
        {
          "output_type": "stream",
          "name": "stdout",
          "text": [
            "[9]\n"
          ]
        }
      ]
    },
    {
      "cell_type": "code",
      "source": [
        "class Estudiante:\n",
        "  def __init__(self, nombre, edad, lista_notas):\n",
        "    self.nombre = nombre\n",
        "    self.edad= edad\n",
        "    self.lista_notas = lista_notas\n",
        "\n",
        "  def promedio(self):\n",
        "    promedio = sum(self.lista_notas) / len(self.lista_notas)\n",
        "    print (f\"El promedio de {self.nombre} con edad {self.edad} es {promedio}.\")\n",
        "\n",
        "\n",
        "Estudiante1 = Estudiante (\"Luis\", 25, [9, 7, 5, 8])\n",
        "Estudiante1.promedio()"
      ],
      "metadata": {
        "colab": {
          "base_uri": "https://localhost:8080/"
        },
        "id": "-tEwuBAsmpA2",
        "outputId": "3ea86f73-5881-47ad-9dff-4970d6ebdaed"
      },
      "execution_count": 37,
      "outputs": [
        {
          "output_type": "stream",
          "name": "stdout",
          "text": [
            "El promedio de Luis con edad 25 es 7.25.\n"
          ]
        }
      ]
    },
    {
      "cell_type": "markdown",
      "source": [
        "7. Crea una clase llamada Circulo que tenga un atributo para el radio.\n",
        "Implementa métodos para calcular el área y el perímetro del círculo, usando\n",
        "el valor de π (pi) de la librería math."
      ],
      "metadata": {
        "id": "aIVPdZmepWaM"
      }
    },
    {
      "cell_type": "code",
      "source": [
        "import math\n",
        "\n",
        "class Circulo:\n",
        "    def __init__(self, radio):\n",
        "        self.radio = radio\n",
        "\n",
        "    def calcular_area(self):\n",
        "        return math.pi * self.radio ** 2\n",
        "\n",
        "    def calcular_perimetro(self):\n",
        "        return 2 * math.pi * self.radio"
      ],
      "metadata": {
        "id": "jb0QcmY6o4Lc"
      },
      "execution_count": 39,
      "outputs": []
    },
    {
      "cell_type": "code",
      "source": [
        "circulo1 = Circulo(5)\n",
        "print(circulo1.calcular_area())\n",
        "print(circulo1.calcular_perimetro())"
      ],
      "metadata": {
        "colab": {
          "base_uri": "https://localhost:8080/"
        },
        "id": "KZraDwTDqKZF",
        "outputId": "cb7dbf55-4c30-4302-c446-4629c5d433df"
      },
      "execution_count": 40,
      "outputs": [
        {
          "output_type": "stream",
          "name": "stdout",
          "text": [
            "78.53981633974483\n",
            "31.41592653589793\n"
          ]
        }
      ]
    },
    {
      "cell_type": "markdown",
      "source": [
        "8. Crea una clase llamada Tienda que tenga atributos para el nombre de la\n",
        "tienda y una lista de productos. Implementa métodos para agregar\n",
        "productos, mostrar todos los productos disponibles y buscar un producto\n",
        "específico por su nombre."
      ],
      "metadata": {
        "id": "uQc4o63nrToF"
      }
    },
    {
      "cell_type": "code",
      "source": [
        "class tienda:\n",
        "  def __init__(self, nombre, lista_productos):\n",
        "    self.nombre = nombre\n",
        "    self.lista_productos = lista_productos\n",
        "\n",
        "  def agregar_producto(self, producto):\n",
        "    self.lista_productos.append(producto)\n",
        "tienda1= tienda (\"Nike\", [])\n",
        "tienda1.agregar_producto(\"Air Force 1\")\n",
        "tienda1.agregar_producto(\"Air Max 90\")\n",
        "print(tienda1.lista_productos)\n",
        "tienda1.agregar_producto(\"Air Jordan 1\")\n",
        "print(tienda1.lista_productos)"
      ],
      "metadata": {
        "colab": {
          "base_uri": "https://localhost:8080/"
        },
        "id": "-psFWwsoqyic",
        "outputId": "32302cbd-723a-4951-be36-67c2bdd8de0a"
      },
      "execution_count": 44,
      "outputs": [
        {
          "output_type": "stream",
          "name": "stdout",
          "text": [
            "['Air Force 1', 'Air Max 90']\n",
            "['Air Force 1', 'Air Max 90', 'Air Jordan 1']\n"
          ]
        }
      ]
    },
    {
      "cell_type": "code",
      "source": [
        "productos_dispobibles = tienda1.lista_productos\n",
        "print(productos_dispobibles)"
      ],
      "metadata": {
        "colab": {
          "base_uri": "https://localhost:8080/"
        },
        "id": "01nRkj6vscqw",
        "outputId": "cbef9cb1-bb1a-4de8-9213-589b2b693ce7"
      },
      "execution_count": 45,
      "outputs": [
        {
          "output_type": "stream",
          "name": "stdout",
          "text": [
            "['Air Force 1', 'Air Max 90', 'Air Jordan 1']\n"
          ]
        }
      ]
    },
    {
      "cell_type": "code",
      "source": [],
      "metadata": {
        "id": "mTNPoyUyuKG6"
      },
      "execution_count": null,
      "outputs": []
    }
  ]
}