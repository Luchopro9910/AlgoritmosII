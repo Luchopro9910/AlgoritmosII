{
  "nbformat": 4,
  "nbformat_minor": 0,
  "metadata": {
    "colab": {
      "provenance": [],
      "include_colab_link": true
    },
    "kernelspec": {
      "name": "python3",
      "display_name": "Python 3"
    },
    "language_info": {
      "name": "python"
    }
  },
  "cells": [
    {
      "cell_type": "markdown",
      "metadata": {
        "id": "view-in-github",
        "colab_type": "text"
      },
      "source": [
        "<a href=\"https://colab.research.google.com/github/Luchopro9910/AlgoritmosII/blob/main/BIblioteca.ipynb\" target=\"_parent\"><img src=\"https://colab.research.google.com/assets/colab-badge.svg\" alt=\"Open In Colab\"/></a>"
      ]
    },
    {
      "cell_type": "code",
      "execution_count": 1,
      "metadata": {
        "colab": {
          "base_uri": "https://localhost:8080/"
        },
        "id": "qTUdP-P0xB__",
        "outputId": "3e3cd993-565a-4b85-e027-f9f6def10087"
      },
      "outputs": [
        {
          "output_type": "stream",
          "name": "stdout",
          "text": [
            "Libro 'Cien años de soledad' prestado a Carlos Pérez\n",
            "[('Cien años de soledad', 'Prestado')]\n",
            "Libro 'Cien años de soledad' devuelto\n",
            "[('Cien años de soledad', 'Disponible')]\n"
          ]
        }
      ],
      "source": [
        "class Libro:\n",
        "    def __init__(self, titulo, autor, año_publicacion, genero):\n",
        "        self.titulo = titulo\n",
        "        self.autor = autor\n",
        "        self.año_publicacion = año_publicacion\n",
        "        self.genero = genero\n",
        "        self.disponible = True\n",
        "\n",
        "class Usuario:\n",
        "    def __init__(self, nombre, id_usuario, correo):\n",
        "        self.nombre = nombre\n",
        "        self.id_usuario = id_usuario\n",
        "        self.correo = correo\n",
        "        self.libros_prestados = []\n",
        "\n",
        "class Biblioteca:\n",
        "    def __init__(self):\n",
        "        self.libros = []\n",
        "        self.usuarios = []\n",
        "\n",
        "    def registrar_libro(self, libro):\n",
        "        self.libros.append(libro)\n",
        "\n",
        "    def registrar_usuario(self, usuario):\n",
        "        self.usuarios.append(usuario)\n",
        "\n",
        "    def prestar_libro(self, id_usuario, titulo):\n",
        "        # Buscar usuario\n",
        "        usuario = None\n",
        "        for u in self.usuarios:\n",
        "            if u.id_usuario == id_usuario:\n",
        "                usuario = u\n",
        "                break\n",
        "\n",
        "        if usuario is None:\n",
        "            return \"Usuario no encontrado\"\n",
        "\n",
        "        # Buscar libro disponible\n",
        "        libro = None\n",
        "        for l in self.libros:\n",
        "            if l.titulo == titulo and l.disponible:\n",
        "                libro = l\n",
        "                break\n",
        "\n",
        "        if libro is None:\n",
        "            return \"Libro no disponible\"\n",
        "\n",
        "        # Realizar préstamo\n",
        "        libro.disponible = False\n",
        "        usuario.libros_prestados.append(libro)\n",
        "        return f\"Libro '{titulo}' prestado a {usuario.nombre}\"\n",
        "\n",
        "    def devolver_libro(self, id_usuario, titulo):\n",
        "        # Buscar usuario\n",
        "        usuario = None\n",
        "        for u in self.usuarios:\n",
        "            if u.id_usuario == id_usuario:\n",
        "                usuario = u\n",
        "                break\n",
        "\n",
        "        if usuario is None:\n",
        "            return \"Usuario no encontrado\"\n",
        "\n",
        "        # Buscar libro en libros prestados\n",
        "        libro = None\n",
        "        for l in usuario.libros_prestados:\n",
        "            if l.titulo == titulo:\n",
        "                libro = l\n",
        "                break\n",
        "\n",
        "        if libro is None:\n",
        "            return \"Libro no encontrado en los préstamos del usuario\"\n",
        "\n",
        "        # Devolver libro\n",
        "        libro.disponible = True\n",
        "        usuario.libros_prestados.remove(libro)\n",
        "        return f\"Libro '{titulo}' devuelto\"\n",
        "\n",
        "    def mostrar_libros(self):\n",
        "        return [(libro.titulo, \"Disponible\" if libro.disponible else \"Prestado\") for libro in self.libros]\n",
        "\n",
        "# **Ejemplo de uso**\n",
        "biblio = Biblioteca()\n",
        "biblio.registrar_libro(Libro(\"Cien años de soledad\", \"Gabriel García Márquez\", 1967, \"Realismo mágico\"))\n",
        "biblio.registrar_usuario(Usuario(\"Carlos Pérez\", \"005\", \"carlos@example.com\"))\n",
        "\n",
        "print(biblio.prestar_libro(\"005\", \"Cien años de soledad\"))\n",
        "print(biblio.mostrar_libros())\n",
        "print(biblio.devolver_libro(\"005\", \"Cien años de soledad\"))\n",
        "print(biblio.mostrar_libros())"
      ]
    },
    {
      "cell_type": "code",
      "source": [],
      "metadata": {
        "id": "5Kg7Qc68k5Mt"
      },
      "execution_count": null,
      "outputs": []
    }
  ]
}